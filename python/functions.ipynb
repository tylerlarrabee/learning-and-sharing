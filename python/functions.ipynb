{
 "cells": [
  {
   "cell_type": "markdown",
   "metadata": {},
   "source": [
    "# Functions"
   ]
  },
  {
   "cell_type": "markdown",
   "metadata": {},
   "source": [
    "Functions are named blocks of code that are designed to do one specific job. When you want to perform a particular task that you've defined in a function, you'll call the function responsibile for that task. If you need to perform the task multiple times throughout your program, you don't need to type all the code for that same task again and again; you just call the function dedicated to handling that task, and the call tells Python to run the code inside the function. "
   ]
  },
  {
   "cell_type": "markdown",
   "metadata": {},
   "source": [
    "### Simple Function"
   ]
  },
  {
   "cell_type": "code",
   "execution_count": 48,
   "metadata": {},
   "outputs": [
    {
     "name": "stdout",
     "output_type": "stream",
     "text": [
      "Hello!\n"
     ]
    }
   ],
   "source": [
    "def greet_user():\n",
    "    \"\"\"Display a simple greeting.\"\"\"\n",
    "    print(\"Hello!\")\n",
    "    \n",
    "greet_user()"
   ]
  },
  {
   "cell_type": "markdown",
   "metadata": {},
   "source": [
    "^^ This is an example of a simple function. The `def` keyword informs Python that you're defining a function. When defining a function you'll tell Python the name of the function (`greet_user()` in this case), and if applicable, what kind of information the function needs to do its job. In the example above, `greet_user()` needs no additional information to do it's job so the parentheses are empty (but still required). Lastly, the function definition ends in a colon. "
   ]
  },
  {
   "cell_type": "markdown",
   "metadata": {},
   "source": [
    "Any indented lines that follow the function definition make up the body of the function. \n",
    "\n",
    "Note: The text in triple quotes is called a docstring, which describes what the function does. Docstrings are enclosed in triple quotes, which Python looks for when it generates documentation for the functions in your programs. \n",
    "\n",
    "The line with `print(\"Hello\")` is the only line of actual code in the body of this function, so `greet_user()`'s only job is to print `Hello!`."
   ]
  },
  {
   "cell_type": "markdown",
   "metadata": {},
   "source": [
    "When you want to use this function, you call it. A function call tells Python to execute the code in the function. To call a function, you write the name of the function, followed by an necessary information in the parentheses."
   ]
  },
  {
   "cell_type": "markdown",
   "metadata": {},
   "source": [
    "### Passing Information to a Function"
   ]
  },
  {
   "cell_type": "code",
   "execution_count": 7,
   "metadata": {},
   "outputs": [
    {
     "name": "stdout",
     "output_type": "stream",
     "text": [
      "Hello, Lucy!\n"
     ]
    }
   ],
   "source": [
    "def greet_user(username):\n",
    "    \"\"\"Display a simple greeting.\"\"\"\n",
    "    print(f\"Hello, {username.title()}!\")\n",
    "    \n",
    "greet_user('lucy')"
   ]
  },
  {
   "cell_type": "markdown",
   "metadata": {},
   "source": [
    "Modified slightly, the `greet_user()` function can also greet someone by their name by allowing the function to accept addition information. In the example above, we do this by adding `username` in the parentheses of the function's definition. Now the function expects you to provide a value for `username` each time you call it. "
   ]
  },
  {
   "cell_type": "markdown",
   "metadata": {},
   "source": [
    "The variable `username` is an example of a parameter. A **parameter** is a piece of information that the function needs to do it's job."
   ]
  },
  {
   "cell_type": "markdown",
   "metadata": {},
   "source": [
    "The value `'lucy'` in `greet_user('lucy')`, is an example of an argument. An **argument** is a piece of information that is passed from a function call to a function. "
   ]
  },
  {
   "cell_type": "markdown",
   "metadata": {},
   "source": [
    "#### More Examples of Simple Functions"
   ]
  },
  {
   "cell_type": "code",
   "execution_count": 10,
   "metadata": {},
   "outputs": [
    {
     "name": "stdout",
     "output_type": "stream",
     "text": [
      "We're learning about functions!!\n"
     ]
    }
   ],
   "source": [
    "def display_message():\n",
    "    print(\"We're learning about functions!!\")\n",
    "    \n",
    "display_message()"
   ]
  },
  {
   "cell_type": "code",
   "execution_count": 14,
   "metadata": {},
   "outputs": [
    {
     "name": "stdout",
     "output_type": "stream",
     "text": [
      "One of my favorite books is Dark Matter\n"
     ]
    }
   ],
   "source": [
    "def favorite_book(title):\n",
    "    print(f\"One of my favorite books is {title.title()}\")\n",
    "    \n",
    "favorite_book('Dark Matter')"
   ]
  },
  {
   "cell_type": "markdown",
   "metadata": {},
   "source": [
    "### Passing Arguments"
   ]
  },
  {
   "cell_type": "markdown",
   "metadata": {},
   "source": [
    "Because a function definition can have multiple parameters, a function call may need multiple arguments. You can pass arguments to you functions in a number of ways:\n",
    "* Positional Arguments: need to be in the same order the parameters were written\n",
    "* Keyword Arguments: where each argument consists of a variable name and value\n",
    "* Lists & Dictionaries of values"
   ]
  },
  {
   "cell_type": "markdown",
   "metadata": {},
   "source": [
    "#### Positional Arguments"
   ]
  },
  {
   "cell_type": "markdown",
   "metadata": {},
   "source": [
    "When you call a function, Python must match each argument in the function call with a parameter in the function defintion. The simplest way to do this is based on the order of the arguments provided. "
   ]
  },
  {
   "cell_type": "markdown",
   "metadata": {},
   "source": [
    "#### Example"
   ]
  },
  {
   "cell_type": "markdown",
   "metadata": {},
   "source": [
    "Below is an example of a function that displays information about pets. "
   ]
  },
  {
   "cell_type": "code",
   "execution_count": 46,
   "metadata": {},
   "outputs": [
    {
     "name": "stdout",
     "output_type": "stream",
     "text": [
      "\n",
      "I have a fish.\n",
      "My fish's name is Daisy.\n",
      "\n",
      "I have a cat.\n",
      "My cat's name is Pancho.\n",
      "\n",
      "I have a dog.\n",
      "My dog's name is Lefty.\n",
      "\n",
      "I have a thorny devil.\n",
      "My thorny devil's name is Red Eye.\n",
      "\n",
      "I have a daisy.\n",
      "My daisy's name is Fish.\n"
     ]
    }
   ],
   "source": [
    "def describe_pet(animal_type, pet_name):\n",
    "    \"\"\"Display information about a pet.\"\"\"\n",
    "    print(f\"\\nI have a {animal_type}.\")\n",
    "    print(f\"My {animal_type}'s name is {pet_name.title()}.\")\n",
    "    \n",
    "describe_pet('fish', 'daisy')\n",
    "describe_pet('cat', 'pancho')\n",
    "describe_pet('dog', 'lefty')\n",
    "describe_pet('thorny devil', 'red eye')\n",
    "describe_pet('daisy', 'fish')"
   ]
  },
  {
   "cell_type": "markdown",
   "metadata": {},
   "source": [
    "#### Keyword Arguments"
   ]
  },
  {
   "cell_type": "markdown",
   "metadata": {},
   "source": [
    "A **keyword argument** is a name-value pair that you pass to a function. You directly associate the name and the value within the argument, so when you pass the argument to the function, there's no confusion about which argument goes with which parameter. Keyword arguments keep you from having to worry about correctly ordering you arguments in the function call and they clarify the role of each value in the function call. "
   ]
  },
  {
   "cell_type": "markdown",
   "metadata": {},
   "source": [
    "#### Example"
   ]
  },
  {
   "cell_type": "code",
   "execution_count": 39,
   "metadata": {},
   "outputs": [
    {
     "name": "stdout",
     "output_type": "stream",
     "text": [
      "\n",
      "I have a cat.\n",
      "My cat's name is Pancho.\n",
      "\n",
      "I have a dog.\n",
      "My dog's name is Lefty.\n"
     ]
    }
   ],
   "source": [
    "def describe_pet(animal_type, pet_name):\n",
    "    \"\"\"Display information about a pet\"\"\"\n",
    "    print(f\"\\nI have a {animal_type}.\")\n",
    "    print(f\"My {animal_type}'s name is {pet_name.title()}.\")\n",
    "    \n",
    "describe_pet(animal_type = 'cat', pet_name = 'pancho')\n",
    "describe_pet(pet_name = 'lefty', animal_type = 'dog')"
   ]
  },
  {
   "cell_type": "markdown",
   "metadata": {},
   "source": [
    "The function `describe_pet()` hasn't changed, but when the function is called, we're explicitly telling Python which parameter each argument should be matched with. The order of the keyword arguments doesn't matter becuase Python knows where each value should go."
   ]
  },
  {
   "cell_type": "markdown",
   "metadata": {},
   "source": [
    "#### Default Values"
   ]
  },
  {
   "cell_type": "markdown",
   "metadata": {},
   "source": [
    "When writing a function, you can define a defualt value for each parameter. If an argument for a parameter is provided in the function call, Python uses the argument value. If an argument is not provided, it uses the parameter's default value. "
   ]
  },
  {
   "cell_type": "code",
   "execution_count": 58,
   "metadata": {},
   "outputs": [
    {
     "name": "stdout",
     "output_type": "stream",
     "text": [
      "\n",
      "I have a cat.\n",
      "My cat's name is Pancho.\n",
      "\n",
      "I have a dog.\n",
      "My dog's name is Lefty.\n"
     ]
    }
   ],
   "source": [
    "def describe_pet(pet_name = 'lefty', animal_type = 'dog'):\n",
    "    \"\"\"Display information about a pet.\"\"\"\n",
    "    print(f\"\\nI have a {animal_type}.\")\n",
    "    print(f\"My {animal_type}'s name is {pet_name.title()}.\")\n",
    "    \n",
    "describe_pet(pet_name = \"pancho\", animal_type = 'cat')\n",
    "describe_pet()"
   ]
  },
  {
   "cell_type": "markdown",
   "metadata": {},
   "source": [
    "Note: When you use default values, any parameter with a default value needs to be listed after all the parameters that don't have default values. This allows Python to continue interpreting positional arguments correctly. "
   ]
  },
  {
   "cell_type": "code",
   "execution_count": 64,
   "metadata": {},
   "outputs": [
    {
     "name": "stdout",
     "output_type": "stream",
     "text": [
      "\n",
      "I have a dog.\n",
      "My dog's name is Lefty.\n"
     ]
    }
   ],
   "source": [
    "def describe_pet(pet_name, animal_type = 'dog'):\n",
    "    \"\"\"Display information about a pet\"\"\"\n",
    "    print(f\"\\nI have a {animal_type}.\")\n",
    "    print(f\"My {animal_type}'s name is {pet_name.title()}.\")\n",
    "\n",
    "describe_pet('lefty')"
   ]
  },
  {
   "cell_type": "markdown",
   "metadata": {},
   "source": [
    "Putting the default argument first (in a fuction defintion with both default and non-default arguments) will produce the error shown below. The reason for this is that all required parameters must be placed before any default arguments. Simply because they are mandatory, whereas default arguments are not. For more information see here: https://stackoverflow.com/questions/16932825/why-cant-non-default-arguments-follow-default-arguments"
   ]
  },
  {
   "cell_type": "code",
   "execution_count": 66,
   "metadata": {},
   "outputs": [
    {
     "ename": "SyntaxError",
     "evalue": "non-default argument follows default argument (<ipython-input-66-4dcefff67128>, line 1)",
     "output_type": "error",
     "traceback": [
      "\u001b[0;36m  File \u001b[0;32m\"<ipython-input-66-4dcefff67128>\"\u001b[0;36m, line \u001b[0;32m1\u001b[0m\n\u001b[0;31m    def describe_pet(animal_type = 'dog', pet_name):\u001b[0m\n\u001b[0m                    ^\u001b[0m\n\u001b[0;31mSyntaxError\u001b[0m\u001b[0;31m:\u001b[0m non-default argument follows default argument\n"
     ]
    }
   ],
   "source": [
    "def describe_pet(animal_type = 'dog', pet_name): \n",
    "    \"\"\"Display information about a pet\"\"\"\n",
    "    print(f\"\\nI have a {animal_type}.\")\n",
    "    print(f\"My {animal_type}'s name is {pet_name.title()}.\")\n",
    "    \n",
    "describe_pet('lefty')"
   ]
  },
  {
   "cell_type": "markdown",
   "metadata": {},
   "source": [
    "#### Examples"
   ]
  },
  {
   "cell_type": "code",
   "execution_count": 78,
   "metadata": {},
   "outputs": [
    {
     "name": "stdout",
     "output_type": "stream",
     "text": [
      "\n",
      " This shirt is a size Large and says, 'Do what you love'.\n",
      "\n",
      " This shirt is a size Large and says, 'The future is amazing'.\n"
     ]
    }
   ],
   "source": [
    "def make_shirt(size, message):\n",
    "    \"\"\"Summarize the attributes of a t-shirt\"\"\"\n",
    "    print(f\"\\n This shirt is a size {size} and says, '{message}'.\")\n",
    "\n",
    "make_shirt(\"Large\", \"Do what you love\")\n",
    "make_shirt(size = \"Large\", message = \"The future is amazing\")"
   ]
  },
  {
   "cell_type": "code",
   "execution_count": 80,
   "metadata": {},
   "outputs": [
    {
     "name": "stdout",
     "output_type": "stream",
     "text": [
      "\n",
      "This shirt is a Large and says, 'The future is amazing'.'\n",
      "\n",
      "This shirt is a Medium and says, 'The future is amazing'.'\n",
      "\n",
      "This shirt is a Small and says, 'Do what you love'.'\n"
     ]
    }
   ],
   "source": [
    "def make_shirt(size, message = \"The future is amazing\"):\n",
    "    \"\"\"Summarize the attributes of a t-shirt\"\"\"\n",
    "    print(f\"\\nThis shirt is a {size} and says, '{message}'.'\")\n",
    "    \n",
    "make_shirt(\"Large\")\n",
    "make_shirt(\"Medium\")\n",
    "make_shirt(\"Small\", \"Do what you love\")"
   ]
  },
  {
   "cell_type": "code",
   "execution_count": 89,
   "metadata": {},
   "outputs": [
    {
     "name": "stdout",
     "output_type": "stream",
     "text": [
      "\n",
      "Reykjavik is in Iceland\n",
      "\n",
      "Kópavogur is in Iceland\n",
      "\n",
      "Calgary is in Canada\n"
     ]
    }
   ],
   "source": [
    "def describe_city(city, country = \"Iceland\"):\n",
    "    \"\"\"describe a city\"\"\"\n",
    "    print(f\"\\n{city.title()} is in {country.title()}\")\n",
    "    \n",
    "describe_city(\"Reykjavik\", \"Iceland\")\n",
    "describe_city(\"Kópavogur\")\n",
    "describe_city(\"calgary\",\"canada\")"
   ]
  },
  {
   "cell_type": "code",
   "execution_count": null,
   "metadata": {},
   "outputs": [],
   "source": []
  }
 ],
 "metadata": {
  "kernelspec": {
   "display_name": "Python 3",
   "language": "python",
   "name": "python3"
  },
  "language_info": {
   "codemirror_mode": {
    "name": "ipython",
    "version": 3
   },
   "file_extension": ".py",
   "mimetype": "text/x-python",
   "name": "python",
   "nbconvert_exporter": "python",
   "pygments_lexer": "ipython3",
   "version": "3.7.3"
  }
 },
 "nbformat": 4,
 "nbformat_minor": 2
}
