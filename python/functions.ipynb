{
 "cells": [
  {
   "cell_type": "markdown",
   "metadata": {},
   "source": [
    "# Functions"
   ]
  },
  {
   "cell_type": "markdown",
   "metadata": {},
   "source": [
    "Functions are named blocks of code that are designed to do one specific job. When you want to perform a particular task that you've defined in a function, you'll call the function responsibile for it. If you need to perform that task multiple times throughout your program, you don't need to type all the code for that same task again and again; you just call the function dedicated to handling that task, and the call tells Python to run the code inside the function. "
   ]
  },
  {
   "cell_type": "markdown",
   "metadata": {},
   "source": [
    "### Simple Function"
   ]
  },
  {
   "cell_type": "code",
   "execution_count": 2,
   "metadata": {},
   "outputs": [
    {
     "name": "stdout",
     "output_type": "stream",
     "text": [
      "Hello!\n"
     ]
    }
   ],
   "source": [
    "def greet_user():\n",
    "    \"\"\"Display a simple greeting.\"\"\"\n",
    "    print(\"Hello!\")\n",
    "    \n",
    "greet_user()"
   ]
  },
  {
   "cell_type": "markdown",
   "metadata": {},
   "source": [
    "^^ This is an example of a simple function. The `def` keyword informs Python that you're defining a function. When defining a function you'll tell Python the name of the function (`greet_user()` in this case), and if applicable, what kind of information the function needs to do its job. In the example above, `greet_user()` needs no additional information to do it's job so the parentheses are empty (but still required). Lastly, the function definition ends in a colon. "
   ]
  },
  {
   "cell_type": "markdown",
   "metadata": {},
   "source": [
    "Any indented lines that follow the function definition make up the body of the function. \n",
    "\n",
    "Note: The text in triple quotes is called a docstring, which describes what the function does. Docstrings are enclosed in triple quotes, which Python looks for when it generates documentation for the functions in your programs. \n",
    "\n",
    "The line with `print(\"Hello\")` is the only line of actual code in the body of this function, so `greet_user()`'s only job is to print `Hello!`."
   ]
  },
  {
   "cell_type": "markdown",
   "metadata": {},
   "source": [
    "When you want to use this function, you call it. A function call tells Python to execute the code in the function. To call a function, you write the name of the function, followed by an necessary information in the parentheses."
   ]
  },
  {
   "cell_type": "markdown",
   "metadata": {},
   "source": [
    "### Passing Information to a Function"
   ]
  },
  {
   "cell_type": "code",
   "execution_count": 7,
   "metadata": {},
   "outputs": [
    {
     "name": "stdout",
     "output_type": "stream",
     "text": [
      "Hello, Lucy!\n"
     ]
    }
   ],
   "source": [
    "def greet_user(username):\n",
    "    \"\"\"Display a simple greeting.\"\"\"\n",
    "    print(f\"Hello, {username.title()}!\")\n",
    "    \n",
    "greet_user('lucy')"
   ]
  },
  {
   "cell_type": "markdown",
   "metadata": {},
   "source": [
    "Modified slightly, the `greet_user()` function can also greet someone by their name by allowing the function to accept addition information. In the example above, we do this adding `username` in the parentheses of the function's definition. Now the function expects you to provide a value for `username` each time you call it. "
   ]
  },
  {
   "cell_type": "markdown",
   "metadata": {},
   "source": [
    "The variable `username` is an example of a parameter. A **parameter** is a piece of information that the function needs to do it's job."
   ]
  },
  {
   "cell_type": "markdown",
   "metadata": {},
   "source": [
    "The value `'lucy'` in `greet_user('lucy')`, is an example of an argument. An **argument** is a piece of information that is passed from a function call to a function. "
   ]
  },
  {
   "cell_type": "markdown",
   "metadata": {},
   "source": [
    "#### More Examples of Simple Functions"
   ]
  },
  {
   "cell_type": "code",
   "execution_count": 10,
   "metadata": {},
   "outputs": [
    {
     "name": "stdout",
     "output_type": "stream",
     "text": [
      "We're learning about functions!!\n"
     ]
    }
   ],
   "source": [
    "def display_message():\n",
    "    print(\"We're learning about functions!!\")\n",
    "    \n",
    "display_message()"
   ]
  },
  {
   "cell_type": "code",
   "execution_count": 14,
   "metadata": {},
   "outputs": [
    {
     "name": "stdout",
     "output_type": "stream",
     "text": [
      "One of my favorite books is Dark Matter\n"
     ]
    }
   ],
   "source": [
    "def favorite_book(title):\n",
    "    print(f\"One of my favorite books is {title.title()}\")\n",
    "    \n",
    "favorite_book('Dark Matter')"
   ]
  },
  {
   "cell_type": "markdown",
   "metadata": {},
   "source": [
    "### Passing Arguments"
   ]
  },
  {
   "cell_type": "markdown",
   "metadata": {},
   "source": [
    "Because a function definition can have multiple parameters, a function call may need multiple arguments. You can pass arguments to you functions in a number of ways:\n",
    "* Positional Arguments: need to be in the same order the parameters were written\n",
    "* Keyword Arguments: where each argument consists of a variable name and value\n",
    "* Lists & Dictionaries of values"
   ]
  },
  {
   "cell_type": "markdown",
   "metadata": {},
   "source": [
    "#### Positional Arguments"
   ]
  },
  {
   "cell_type": "markdown",
   "metadata": {},
   "source": [
    "When you call a function, Python must match each argument in the function call with a parameter in the function defintion. The simplest way to do this is based on the order of the arguments provided. "
   ]
  },
  {
   "cell_type": "markdown",
   "metadata": {},
   "source": [
    "#### Example"
   ]
  },
  {
   "cell_type": "code",
   "execution_count": 32,
   "metadata": {},
   "outputs": [
    {
     "name": "stdout",
     "output_type": "stream",
     "text": [
      "\n",
      "I have a thorny devil.\n",
      "My thorny devil's name is Red Eye.\n",
      "\n",
      "I have a cat.\n",
      "My cat's name is Jagger.\n",
      "\n",
      "I have a dog.\n",
      "My dog's name is Skootch.\n",
      "\n",
      "I have a fish.\n",
      "My fish's name is Daisy.\n"
     ]
    }
   ],
   "source": [
    "def describe_pet(animal_type, pet_name):\n",
    "    \"\"\"Display information about a pet.\"\"\"\n",
    "    print(f\"\\nI have a {animal_type}.\")\n",
    "    print(f\"My {animal_type}'s name is {pet_name.title()}.\")\n",
    "    \n",
    "describe_pet('thorny devil', 'red eye')\n",
    "describe_pet('cat', 'jagger')\n",
    "describe_pet('dog', 'skootch')\n",
    "describe_pet('fish', 'daisy')"
   ]
  },
  {
   "cell_type": "code",
   "execution_count": null,
   "metadata": {},
   "outputs": [],
   "source": []
  }
 ],
 "metadata": {
  "kernelspec": {
   "display_name": "Python 3",
   "language": "python",
   "name": "python3"
  },
  "language_info": {
   "codemirror_mode": {
    "name": "ipython",
    "version": 3
   },
   "file_extension": ".py",
   "mimetype": "text/x-python",
   "name": "python",
   "nbconvert_exporter": "python",
   "pygments_lexer": "ipython3",
   "version": "3.7.3"
  }
 },
 "nbformat": 4,
 "nbformat_minor": 2
}
